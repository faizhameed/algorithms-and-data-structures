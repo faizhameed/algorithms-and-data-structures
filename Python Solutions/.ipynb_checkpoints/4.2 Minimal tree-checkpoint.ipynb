{
 "cells": [
  {
   "cell_type": "markdown",
   "metadata": {},
   "source": [
    "Given a sorted (increasing order) array with unique integer elements, write an algorithm to create a binary search tree with minimal height"
   ]
  },
  {
   "cell_type": "code",
   "execution_count": 3,
   "metadata": {},
   "outputs": [],
   "source": [
    "class Node:\n",
    "    def __init__(self, item):\n",
    "        self.right = None\n",
    "        self.left = None\n",
    "        self.val = item\n",
    "\n",
    "    def disp(self, nesting=0):\n",
    "        indent = \" \" * nesting * 2\n",
    "        output = f\"{self.val}\\n\"\n",
    "        if self.left is not None:\n",
    "            output += f\"{indent}L:\"\n",
    "            output += self.left.disp(nesting + 1)\n",
    "        if self.right is not None:\n",
    "            output += f\"{indent}R:\"\n",
    "            output += self.right.disp(nesting + 1)\n",
    "        return output\n",
    "\n",
    "    def __str__(self):\n",
    "        return self.disp()"
   ]
  },
  {
   "cell_type": "code",
   "execution_count": 20,
   "metadata": {},
   "outputs": [],
   "source": [
    "def createMinimalBSTFromArray(arr,left,right):\n",
    "    if(left>right):\n",
    "        return None\n",
    "    mid = (\n",
    "        left +right\n",
    "    ) // 2\n",
    "    root = Node(arr[mid])\n",
    "    root.left = createMinimalBSTFromArray(arr, left, mid - 1)\n",
    "    root.right = createMinimalBSTFromArray(arr, mid + 1, right)\n",
    "    return root"
   ]
  },
  {
   "cell_type": "code",
   "execution_count": 21,
   "metadata": {},
   "outputs": [],
   "source": [
    "test_array = [1, 2, 3, 4, 5, 6, 7, 8, 9, 10, 12, 15, 18, 22, 43, 144, 515, 4123]"
   ]
  },
  {
   "cell_type": "code",
   "execution_count": 22,
   "metadata": {},
   "outputs": [
    {
     "name": "stdout",
     "output_type": "stream",
     "text": [
      "9\n",
      "L:4\n",
      "  L:2\n",
      "    L:1\n",
      "    R:3\n",
      "  R:6\n",
      "    L:5\n",
      "    R:7\n",
      "      R:8\n",
      "R:22\n",
      "  L:12\n",
      "    L:10\n",
      "    R:15\n",
      "      R:18\n",
      "  R:144\n",
      "    L:43\n",
      "    R:515\n",
      "      R:4123\n",
      "\n"
     ]
    }
   ],
   "source": [
    "print(createMinimalBSTFromArray(test_array, 0, len(test_array) - 1))"
   ]
  }
 ],
 "metadata": {
  "kernelspec": {
   "display_name": "Python 3",
   "language": "python",
   "name": "python3"
  },
  "language_info": {
   "codemirror_mode": {
    "name": "ipython",
    "version": 3
   },
   "file_extension": ".py",
   "mimetype": "text/x-python",
   "name": "python",
   "nbconvert_exporter": "python",
   "pygments_lexer": "ipython3",
   "version": "3.8.5"
  }
 },
 "nbformat": 4,
 "nbformat_minor": 4
}
