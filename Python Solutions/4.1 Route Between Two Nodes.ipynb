{
 "cells": [
  {
   "cell_type": "markdown",
   "metadata": {},
   "source": [
    "### Route between Nodes"
   ]
  },
  {
   "cell_type": "markdown",
   "metadata": {},
   "source": [
    "Given directed grapht, design an algorithm to find out wether there is a route between two nodes"
   ]
  },
  {
   "cell_type": "code",
   "execution_count": 5,
   "metadata": {},
   "outputs": [],
   "source": [
    "class Node():\n",
    "    def __init__(self,value,adjacent_list):\n",
    "        self.value=value\n",
    "        self.adjancent_list = adjacent_list or []\n",
    "        self.shortest_path= None\n",
    "        \n",
    "    def add_to_edge(self,node):\n",
    "        self.adjacent_list.append(node)\n",
    "        \n",
    "    def __str__(self):\n",
    "        return self.data"
   ]
  },
  {
   "cell_type": "code",
   "execution_count": 6,
   "metadata": {},
   "outputs": [],
   "source": [
    "class Queue():\n",
    "    def __init__(self):\n",
    "        self.array=[]\n",
    "        \n",
    "    def enqueue(self):\n",
    "        self.array.append(item)\n",
    "        \n",
    "    def dequeue(self):\n",
    "        if not len(self.array):\n",
    "            return None\n",
    "        item =  self.array[0]\n",
    "        del self.array[0]\n",
    "        return item"
   ]
  },
  {
   "cell_type": "code",
   "execution_count": 3,
   "metadata": {},
   "outputs": [],
   "source": [
    "def routeBtwNodes(node1, node2):\n",
    "    \n",
    "    node =node1\n",
    "    queue=Queue() # creating queue to store the queue of nodes\n",
    "    all_visited_path = [node]\n",
    "    found_path=None\n",
    "    node.shortest_path = [node]\n",
    "    \n",
    "    while node:\n",
    "        for adjacent in node.adjacent_list:\n",
    "            if not adjacent.shortest_path:\n",
    "                adjacent.shortest_path +=[node]\n",
    "                if adjacent== node2:\n",
    "                    found_path = node.shortest_path+[adjacent]\n",
    "                    break\n",
    "                queue.add(adjacent)\n",
    "                all_visited_path.append(adjacent)\n",
    "            node =queue.remove()\n",
    "        for visited in all_visited_path:\n",
    "            visited.shortest_path =None\n",
    "        return found_path\n",
    "    "
   ]
  },
  {
   "cell_type": "code",
   "execution_count": null,
   "metadata": {},
   "outputs": [],
   "source": []
  }
 ],
 "metadata": {
  "kernelspec": {
   "display_name": "Python 3",
   "language": "python",
   "name": "python3"
  },
  "language_info": {
   "codemirror_mode": {
    "name": "ipython",
    "version": 3
   },
   "file_extension": ".py",
   "mimetype": "text/x-python",
   "name": "python",
   "nbconvert_exporter": "python",
   "pygments_lexer": "ipython3",
   "version": "3.8.5"
  }
 },
 "nbformat": 4,
 "nbformat_minor": 4
}
