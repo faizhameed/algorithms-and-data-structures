{
 "nbformat": 4,
 "nbformat_minor": 2,
 "metadata": {
  "language_info": {
   "name": "python",
   "codemirror_mode": {
    "name": "ipython",
    "version": 3
   },
   "version": "3.7.3-final"
  },
  "orig_nbformat": 2,
  "file_extension": ".py",
  "mimetype": "text/x-python",
  "name": "python",
  "npconvert_exporter": "python",
  "pygments_lexer": "ipython3",
  "version": 3,
  "kernelspec": {
   "name": "python37364bitbasecondabfced814fc9c41e7a1fd7cfc48e344d5",
   "display_name": "Python 3.7.3 64-bit ('base': conda)"
  }
 },
 "cells": [
  {
   "cell_type": "markdown",
   "execution_count": 3,
   "metadata": {},
   "outputs": [
    {
     "data": {
      "text/plain": "5"
     },
     "execution_count": 3,
     "metadata": {},
     "output_type": "execute_result"
    }
   ],
   "source": [
    "Let me illustrate with 1/7.  First calculation of the remainder of 1/7 gives us 1.\n",
    "\n",
    "Second calculation to analyse the remainder on the first decimal place we multiply by 10,  and divide by 7. The remainder of 10/7 is 3.\n",
    "\n",
    "In the third calculation we get 30/7 which gives us a remainder of 2.\n",
    "\n",
    "In the fourth calculation we get 20/7 which gives us a remainder of 6.\n",
    "\n",
    "In the fifth calculation we get 60/7 which gives us a remainder of 4.\n",
    "\n",
    "In the sixth calculation we get 40/7 which gives us a remainder of 5.\n",
    "\n",
    "In the seventh calculation we get 50/7 which gives us a remainder of 1.\n",
    "\n",
    "We already have had a remainder of 1 on the first calculation which means that we continue the calculations we will see the same pattern emerge again, since 10/7 gives us 3 and so on.  Thus we have found the longest recurring cycle in 1/7. Or rather we have found the length of the recurring cycle in 1/7 which is 7-1 = 6 digits long.\n",
    "\n",
    "This is a pretty simple solution approach, where all we need to do is to keep calculating the remainder and keep track of the already found remainders.\n",
    "\n",
    "One more thing to note is that the maximum recurring cycle length of 1/d is d-1, as it is pretty obvious from the example. We can get d-1 different possible remainders from the number, since if the result is equal to or greater than d, then it is not a remainder.\n",
    "\n",
    "What that means is that we are more likely to find a large recurring cycle when d is large, and we can stop the search once d becomes lower than the longest recurring cycle we have found.\n"
   ]
  },
  {
   "cell_type": "code",
   "execution_count": 19,
   "metadata": {},
   "outputs": [
    {
     "name": "stdout",
     "output_type": "stream",
     "text": "[1, 2, 3]\n"
    }
   ],
   "source": [
    "a=[1,2,3]\n",
    "if 2 not in a:\n",
    "    print (2)\n",
    "print(a)"
   ]
  },
  {
   "cell_type": "code",
   "execution_count": 36,
   "metadata": {},
   "outputs": [
    {
     "name": "stdout",
     "output_type": "stream",
     "text": "largest 983 982\n"
    }
   ],
   "source": [
    "repeatCycArr =[0,1]\n",
    "\n",
    "for i in range(3,1000):\n",
    "    arrOfRem=[]\n",
    "    remainder=1\n",
    "    flag=0\n",
    "    while remainder !=0:\n",
    "        if flag==0:\n",
    "            remainder=1%i\n",
    "            flag=1\n",
    "        else:\n",
    "            remainder=(remainder*10)%i\n",
    "        if remainder not in arrOfRem:\n",
    "            arrOfRem.append(remainder)\n",
    "        else:\n",
    "            break\n",
    "    repeatCycArr.append(len(arrOfRem))\n",
    "print(\"largest\",repeatCycArr.index(max(repeatCycArr))+1,max(repeatCycArr))\n"
   ]
  },
  {
   "cell_type": "code",
   "execution_count": null,
   "metadata": {},
   "outputs": [],
   "source": []
  }
 ]
}